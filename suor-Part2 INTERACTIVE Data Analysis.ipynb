{
    "cells": [
        {
            "cell_type": "markdown",
            "metadata": {},
            "source": [
                "# Reproducibility and transparency in interpretive corpus pragmatics - Part 2: INTERACTIVE data analysis\n",
                "Martin Schweinberger and Michael Haugh\n",
                "\n",
                "June 12, 2023\n",
                "\n",
                "## Preparation\n",
                "\n",
                "In a first step, we load or activate the packages.\n"
            ]
        },
        {
            "cell_type": "code",
            "execution_count": null,
            "metadata": {},
            "outputs": [],
            "source": [
                "library(dplyr)\n",
                "library(stringr)\n",
                "library(tidyr)\n",
                "library(quanteda)\n",
                "library(here)\n",
                "library(openxlsx)\n",
                "library(knitr)\n"
            ]
        },
        {
            "cell_type": "markdown",
            "metadata": {},
            "source": [
                "## Data Exploration and Analysis\n",
                "\n",
                "We now load the manually annotated data and check what the data looks like.\n"
            ]
        },
        {
            "cell_type": "code",
            "execution_count": null,
            "metadata": {},
            "outputs": [],
            "source": [
                "ufor_ann <- openxlsx::read.xlsx(here::here(\"tables\", \"ufors_annotated.xlsx\"), sheet = 1)\n",
                "# inspect\n",
                "ufor_ann %>%\n",
                "  dplyr::filter(corpus == \"The La Trobe Corpus of Spoken Australian English\") %>%\n",
                "  head()\n"
            ]
        },
        {
            "cell_type": "markdown",
            "metadata": {},
            "source": [
                "Most of the cells are empty and do not contain any annotation information (these are all cells containing *NA* which stands for *not applicable*).\n",
                "\n",
                "You can use and edit the code chunk below to inspect other instances of utterance-final *or* by changing the identifier of the instance, e.g., from `instance 1` (which is the default below) to `instance 51` (overall, there are 98).\n"
            ]
        },
        {
            "cell_type": "code",
            "execution_count": null,
            "metadata": {},
            "outputs": [],
            "source": [
                "# inspect\n",
                "ufor_ann %>%\n",
                "  dplyr::filter(hit == \"instance 1\")\n"
            ]
        },
        {
            "cell_type": "markdown",
            "metadata": {},
            "source": [
                "## Creating overview tables\n",
                "\n",
                "We will now generate an overview table showing us how frequent different combinations are in the raw data.\n",
                "\n",
                "Be start with tabulating the *action.type* against the *question.type* to get an overview of gerenal frequencies while also filtering out false positives, i.e. instances that where not \n"
            ]
        },
        {
            "cell_type": "code",
            "execution_count": null,
            "metadata": {},
            "outputs": [],
            "source": [
                "ufor_clean <- ufor_ann %>%\n",
                "  dplyr::group_by(hit) %>%\n",
                "  tidyr::fill(action.type, .direction = \"updown\") %>%\n",
                "  tidyr::fill(question.type, .direction = \"updown\") %>%\n",
                "  tidyr::fill(response.polarity, .direction = \"updown\") %>%\n",
                "  tidyr::fill(`explicit-inferred`, .direction = \"updown\") %>%\n",
                "  tidyr::fill(response.type, .direction = \"updown\") %>%\n",
                "  # rename\n",
                "  dplyr::rename(`Action Type` = action.type,\n",
                "                `Question Type` = question.type,\n",
                "                `Response Polarity` = response.polarity,\n",
                "                `Explicit vs Inferred` = `explicit-inferred`,\n",
                "                `Response Type` = response.type,\n",
                "                `Annotator Comment` = annotator.comment,\n",
                "                `Turn-Initial Particle` = `turn-initial.particle`) %>%\n",
                "  # renaming levels\n",
                "  dplyr::mutate(`Action Type` = factor(`Action Type`, \n",
                "                                       levels = c(\"A\", \"Q\", \"R\", \"S\"), \n",
                "                                       labels = c(\"Assertion\", \"Information-seeking question\", \"Request\", \"Suggestion\")),\n",
                "                `Question Type`  = factor(`Question Type`, \n",
                "                                       levels = c(\"P\", \"A\", \"Q\", \"FP\"), \n",
                "                                       labels = c(\"Polar question\", \"Alternative question\", \"Q-word question\", \"False positive\")),\n",
                "                `Response Polarity`  = factor(`Response Polarity`, \n",
                "                                              levels = c(\"A\", \"AB\", \"B\", \"N\"), \n",
                "                                              labels = c(\"Polar question\", \"Alternative question\", \"Q-word question\", \"False positive\")),\n",
                "                `Explicit vs Inferred` = factor(`Explicit vs Inferred`,\n",
                "                                                levels = c(\"E\", \"I\"),\n",
                "                                                labels = c(\"Explicit\", \"Inferred\")),\n",
                "                `Response Type` = factor(`Response Type`,\n",
                "                                                levels = c(\"TC\", \"NTC\"),\n",
                "                                                labels = c(\"Type Conforming\", \"Non-Type Conforming\")))\n",
                "# inspect\n",
                "head(ufor_clean)\n"
            ]
        },
        {
            "cell_type": "markdown",
            "metadata": {},
            "source": [
                "  \n",
                "  \n"
            ]
        },
        {
            "cell_type": "code",
            "execution_count": null,
            "metadata": {},
            "outputs": [],
            "source": [
                "ufor_clean %>%\n",
                "  dplyr::filter(context == \"hit\") %>%\n",
                "  group_by(`Question Type`) %>% \n",
                "  dplyr::summarise(Frequency = n()) %>%\n",
                "  dplyr::arrange(-Frequency) %>%\n",
                "  tidyr::spread(`Question Type`, Frequency) %>%\n",
                "  replace(is.na(.), 0)\n"
            ]
        },
        {
            "cell_type": "markdown",
            "metadata": {},
            "source": [
                "\n",
                "\n"
            ]
        },
        {
            "cell_type": "code",
            "execution_count": null,
            "metadata": {},
            "outputs": [],
            "source": [
                "ufor_clean %>%\n",
                "  dplyr::filter(context == \"hit\") %>%\n",
                "  group_by(`Action Type`, `Question Type`) %>% \n",
                "  dplyr::summarise(Frequency = n()) %>%\n",
                "  dplyr::arrange(-Frequency) %>%\n",
                "  tidyr::spread(`Question Type`, Frequency) %>%\n",
                "  replace(is.na(.), 0)\n"
            ]
        },
        {
            "cell_type": "markdown",
            "metadata": {},
            "source": [
                "\n",
                "\n"
            ]
        },
        {
            "cell_type": "code",
            "execution_count": null,
            "metadata": {},
            "outputs": [],
            "source": [
                "ufor_clean %>%\n",
                "  dplyr::group_by(hit) %>%\n",
                "  tidyr::fill(`Action Type`, .direction = \"updown\") %>%\n",
                "  tidyr::fill(`Question Type`, .direction = \"updown\") %>%\n",
                "  tidyr::fill(`Response Polarity`, .direction = \"updown\") %>%\n",
                "  tidyr::fill(`Explicit vs Inferred`, .direction = \"updown\") %>%\n",
                "  tidyr::fill(`Response Type`, .direction = \"updown\") %>%\n",
                "  dplyr::filter(context == \"hit\") %>%\n",
                "  group_by(`Action Type`, `Question Type`, `Response Polarity`, `Explicit vs Inferred`, `Response Type`) %>% \n",
                "  dplyr::summarise(Frequency = n()) %>%\n",
                "  dplyr::arrange(-Frequency)\n"
            ]
        },
        {
            "cell_type": "markdown",
            "metadata": {},
            "source": [
                "> It is important to note that there are false positives in the data, i.e. instances that do not really represent instances of utterance-final *or*. Hence, we will remove all instances representing false positives but also non-canonical uses of utterance-final *or* from the data as the analysis will focus on canonical uses of utterance-final *or*. Cononical instances are where the *or* is part of a ploar question.\n",
                "\n",
                "### Canonical (Q-P) Instances\n"
            ]
        },
        {
            "cell_type": "code",
            "execution_count": null,
            "metadata": {},
            "outputs": [],
            "source": [
                "# inspect\n",
                "ufor_can <- ufor_ann %>%\n",
                "  dplyr::group_by(hit) %>%\n",
                "  tidyr::fill(action.type, .direction = \"updown\") %>%\n",
                "  tidyr::fill(question.type, .direction = \"updown\") %>%\n",
                "  tidyr::fill(response.polarity, .direction = \"updown\") %>%\n",
                "  tidyr::fill(`explicit-inferred`, .direction = \"updown\") %>%\n",
                "  tidyr::fill(response.type, .direction = \"updown\") %>%\n",
                "  # filter canonical instances\n",
                "  dplyr::filter(action.type == \"Q\" & question.type == \"P\")\n",
                "# inspect\n",
                "head(ufor_can)\n"
            ]
        },
        {
            "cell_type": "markdown",
            "metadata": {},
            "source": [
                "We check how many instances of utterance-final *or* are left.\n",
                "\n"
            ]
        },
        {
            "cell_type": "code",
            "execution_count": null,
            "metadata": {},
            "outputs": [],
            "source": [
                "length(names(table(ufor_can$hit)))\n",
                "\n"
            ]
        },
        {
            "cell_type": "markdown",
            "metadata": {},
            "source": [
                "We are left with 57 canonical instances of utterance-final *or* (i.e. where the utterance containing utterance-final *or* is an information seeking question (Q) and a polar question (P).\n",
                "\n",
                "\n",
                "We will now check, what instances are left in the data.\n"
            ]
        },
        {
            "cell_type": "code",
            "execution_count": null,
            "metadata": {},
            "outputs": [],
            "source": [
                "names(table(ufor_can$hit))\n",
                "\n"
            ]
        },
        {
            "cell_type": "markdown",
            "metadata": {},
            "source": [
                "You can use and edit the code chunk below to inspect other instances of utterance-final *or* by changing the identifier of the instance, e.g., from `instance 1` (which is the default below) to `instance 9` (overall, there are 57).\n",
                "\n"
            ]
        },
        {
            "cell_type": "code",
            "execution_count": null,
            "metadata": {},
            "outputs": [],
            "source": [
                "# inspect\n",
                "ufor_can %>%\n",
                "  dplyr::filter(hit == \"instance 1\")\n"
            ]
        },
        {
            "cell_type": "markdown",
            "metadata": {},
            "source": [
                "We will now generate an overview table showing us how frequent different combinations are in the canonical data.\n",
                "\n"
            ]
        },
        {
            "cell_type": "code",
            "execution_count": null,
            "metadata": {},
            "outputs": [],
            "source": [
                "ufor_can %>%\n",
                "  dplyr::filter(context == \"hit\") %>%\n",
                "  group_by(action.type, question.type, response.polarity, `explicit-inferred`, response.type) %>% \n",
                "  dplyr::summarise(Frequency = n()) %>%\n",
                "  dplyr::arrange(-Frequency)\n"
            ]
        },
        {
            "cell_type": "markdown",
            "metadata": {},
            "source": [
                "### Canonical with Y or N response\n",
                "\n",
                "We now want to check the instances where the canonical sequence has received either a positive *yes* [Y] or a negative *no* [N] responses.\n"
            ]
        },
        {
            "cell_type": "code",
            "execution_count": null,
            "metadata": {},
            "outputs": [],
            "source": [
                "ufor_can_yn <- ufor_can %>%\n",
                "  dplyr::filter(response.polarity == \"Y\" | response.polarity == \"N\")\n",
                "# inspect\n",
                "head(ufor_can_yn)\n"
            ]
        },
        {
            "cell_type": "markdown",
            "metadata": {},
            "source": [
                "Again, we will now check, how many instances are left in the data.\n",
                "\n"
            ]
        },
        {
            "cell_type": "code",
            "execution_count": null,
            "metadata": {},
            "outputs": [],
            "source": [
                "length(names(table(ufor_can_yn$hit)))\n",
                "\n"
            ]
        },
        {
            "cell_type": "markdown",
            "metadata": {},
            "source": [
                "We see that there are 46 instances left of canonical sequences where the response is positive or negative.\n",
                "\n",
                "We will now check, what instances are left in the data.\n"
            ]
        },
        {
            "cell_type": "code",
            "execution_count": null,
            "metadata": {},
            "outputs": [],
            "source": [
                "names(table(ufor_can_yn$hit))\n",
                "\n"
            ]
        },
        {
            "cell_type": "markdown",
            "metadata": {},
            "source": [
                "You can use and edit the code chunk below to inspect other instances of utterance-final *or* with positive and negative responses by changing the identifier of the instance, e.g., from `instance 1` (which is the default below) to `instance 82` (overall, there are 46).\n",
                "\n"
            ]
        },
        {
            "cell_type": "code",
            "execution_count": null,
            "metadata": {},
            "outputs": [],
            "source": [
                "# inspect\n",
                "ufor_can_yn %>%\n",
                "  dplyr::filter(hit == \"instance 1\")\n"
            ]
        },
        {
            "cell_type": "markdown",
            "metadata": {},
            "source": [
                "We will now generate an overview table showing us how frequent different combinations are in the canonical data  with positive and negative responses.\n",
                "\n"
            ]
        },
        {
            "cell_type": "code",
            "execution_count": null,
            "metadata": {},
            "outputs": [],
            "source": [
                "ufor_can_yn %>%\n",
                "  dplyr::filter(context == \"hit\") %>%\n",
                "  group_by(action.type, question.type, response.polarity, `explicit-inferred`, response.type) %>% \n",
                "  dplyr::summarise(Frequency = n()) %>%\n",
                "  dplyr::arrange(-Frequency)\n"
            ]
        },
        {
            "cell_type": "markdown",
            "metadata": {},
            "source": [
                "### Canonical with explicit Y or N response\n",
                "\n",
                "We now want to check the instances where the canonical sequence has received either an **explicit** positive *yes* [Y] or negative *no* [N] responses.\n"
            ]
        },
        {
            "cell_type": "code",
            "execution_count": null,
            "metadata": {},
            "outputs": [],
            "source": [
                "ufor_can_eyn <- ufor_can_yn %>%\n",
                "  dplyr::filter(`explicit-inferred` == \"E\")\n",
                "# inspect\n",
                "head(ufor_can_eyn)\n"
            ]
        },
        {
            "cell_type": "markdown",
            "metadata": {},
            "source": [
                "Again, we will now check, how many instances are left in the data.\n",
                "\n"
            ]
        },
        {
            "cell_type": "code",
            "execution_count": null,
            "metadata": {},
            "outputs": [],
            "source": [
                "length(names(table(ufor_can_eyn$hit)))\n",
                "\n"
            ]
        },
        {
            "cell_type": "markdown",
            "metadata": {},
            "source": [
                "Also, we check, what instances are left in the data.\n",
                "\n"
            ]
        },
        {
            "cell_type": "code",
            "execution_count": null,
            "metadata": {},
            "outputs": [],
            "source": [
                "names(table(ufor_can_eyn$hit))\n",
                "\n"
            ]
        },
        {
            "cell_type": "markdown",
            "metadata": {},
            "source": [
                "You can use and edit the code chunk below to inspect other instances of utterance-final *or* with positive and negative responses by changing the identifier of the instance, e.g., from `instance 1` (which is the default below) to `instance 75` (overall, there are 37).\n",
                "\n"
            ]
        },
        {
            "cell_type": "code",
            "execution_count": null,
            "metadata": {},
            "outputs": [],
            "source": [
                "# inspect\n",
                "ufor_can_eyn %>%\n",
                "  dplyr::filter(hit == \"instance 1\")\n"
            ]
        },
        {
            "cell_type": "markdown",
            "metadata": {},
            "source": [
                "We will now generate an overview table showing us how frequent different combinations are in the canonical data  with explicit positive and negative responses.\n",
                "\n"
            ]
        },
        {
            "cell_type": "code",
            "execution_count": null,
            "metadata": {},
            "outputs": [],
            "source": [
                "ufor_can_eyn %>%\n",
                "  dplyr::filter(context == \"hit\") %>%\n",
                "  group_by(action.type, question.type, response.polarity, `explicit-inferred`, response.type) %>% \n",
                "  dplyr::summarise(Frequency = n()) %>%\n",
                "  dplyr::arrange(-Frequency)\n"
            ]
        },
        {
            "cell_type": "markdown",
            "metadata": {},
            "source": [
                "## Outro\n",
                "\n"
            ]
        },
        {
            "cell_type": "code",
            "execution_count": null,
            "metadata": {},
            "outputs": [],
            "source": [
                "sessionInfo()\n",
                "\n"
            ]
        },
        {
            "cell_type": "markdown",
            "metadata": {},
            "source": [
                "\n",
                "\n"
            ]
        }
    ],
    "metadata": {
        "anaconda-cloud": "",
        "kernelspec": {
            "display_name": "R",
            "langauge": "R",
            "name": "ir"
        },
        "language_info": {
            "codemirror_mode": "r",
            "file_extension": ".r",
            "mimetype": "text/x-r-source",
            "name": "R",
            "pygments_lexer": "r",
            "version": "3.4.1"
        }
    },
    "nbformat": 4,
    "nbformat_minor": 1
}
